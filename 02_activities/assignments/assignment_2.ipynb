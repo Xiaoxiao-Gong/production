{
 "cells": [
  {
   "cell_type": "markdown",
   "metadata": {},
   "source": [
    "# Assignment 2"
   ]
  },
  {
   "cell_type": "markdown",
   "metadata": {},
   "source": [
    "In this assigment, we will work with the *Adult* data set. Please download the data from the [UCI Machine Learning Repository](https://archive.ics.uci.edu/dataset/2/adult). Extract the data files into the subdirectory: `../05_src/data/adult/` (relative to `./05_src/`)."
   ]
  },
  {
   "cell_type": "markdown",
   "metadata": {},
   "source": [
    "# Load the data\n",
    "\n",
    "Assuming that the files `adult.data` and `adult.test` are in `../05_src/data/adult/`, then you can use the code below to load them."
   ]
  },
  {
   "cell_type": "code",
   "execution_count": 3,
   "metadata": {},
   "outputs": [],
   "source": [
    "import pandas as pd\n",
    "columns = [\n",
    "    'age', 'workclass', 'fnlwgt', 'education', 'education-num', 'marital-status',\n",
    "    'occupation', 'relationship', 'race', 'sex', 'capital-gain', 'capital-loss', 'hours-per-week',\n",
    "    'native-country', 'income'\n",
    "]\n",
    "adult_dt = (pd.read_csv('../../05_src/data/adult/adult.data', header = None, names = columns)\n",
    "              .assign(income = lambda x: (x.income.str.strip() == '>50K')*1))\n"
   ]
  },
  {
   "cell_type": "markdown",
   "metadata": {},
   "source": [
    "# Get X and Y\n",
    "\n",
    "Create the features data frame and target data:\n",
    "\n",
    "+ Create a dataframe `X` that holds the features (all columns that are not `income`).\n",
    "+ Create a dataframe `Y` that holds the target data (`income`).\n",
    "+ From `X` and `Y`, obtain the training and testing data sets:\n",
    "\n",
    "    - Use a train-test split of 70-30%. \n",
    "    - Set the random state of the splitting function to 42."
   ]
  },
  {
   "cell_type": "code",
   "execution_count": null,
   "metadata": {},
   "outputs": [
    {
     "name": "stdout",
     "output_type": "stream",
     "text": [
      "Training set size: X_train: (22792, 14) Y_train: (22792,)\n",
      "Testing set size: X_test: (9769, 14) Y_test: (9769,)\n"
     ]
    }
   ],
   "source": [
    "adult_dt.head()\n",
    "\n",
    "from sklearn.model_selection import train_test_split\n",
    "\n",
    "# create the df X and Y\n",
    "X = adult_dt.drop('income', axis=1)  \n",
    "Y = adult_dt['income']               \n",
    "\n",
    "# split the df \n",
    "X_train, X_test, Y_train, Y_test = train_test_split(X, Y, test_size=0.3, random_state=42)\n",
    "\n",
    "# display shapes\n",
    "print(\"Training set size: X_train:\", X_train.shape, \"Y_train:\", Y_train.shape)\n",
    "print(\"Testing set size: X_test:\", X_test.shape, \"Y_test:\", Y_test.shape)\n"
   ]
  },
  {
   "cell_type": "markdown",
   "metadata": {},
   "source": [
    "## Random States\n",
    "\n",
    "Please comment: \n",
    "\n",
    "+ What is the [random state](https://scikit-learn.org/stable/glossary.html#term-random_state) of the [splitting function](https://scikit-learn.org/stable/modules/generated/sklearn.model_selection.train_test_split.html)? \n",
    "\n",
    "Random_state is a parameter for the random number generator used during data splitting. \n",
    "By setting an integer value, similar to a seed, to ensure the same training and test sets are obtained every time when split the data.\n",
    "\n",
    "+ Why is it [useful](https://en.wikipedia.org/wiki/Reproducibility)?\n",
    "\n",
    "To ensure reproducibility, this allows consistent results when working in a team, such as completing our project in a group. Others team member can run my code and get the same results."
   ]
  },
  {
   "cell_type": "markdown",
   "metadata": {},
   "source": [
    "*(Comment here.)*"
   ]
  },
  {
   "cell_type": "markdown",
   "metadata": {},
   "source": [
    "# Preprocessing\n",
    "\n",
    "Create a [Column Transformer](https://scikit-learn.org/stable/modules/generated/sklearn.compose.ColumnTransformer.html) that treats the features as follows:\n",
    "\n",
    "- Numerical variables\n",
    "\n",
    "    * Apply [KNN-based imputation for completing missing values](https://scikit-learn.org/stable/modules/generated/sklearn.impute.KNNImputer.html):\n",
    "        \n",
    "        + Consider the 7 nearest neighbours.\n",
    "        + Weight each neighbour by the inverse of its distance, causing closer neigbours to have more influence than more distant ones.\n",
    "    * [Scale features using statistics that are robust to outliers](https://scikit-learn.org/stable/modules/generated/sklearn.preprocessing.RobustScaler.html#sklearn.preprocessing.RobustScaler).\n",
    "\n",
    "- Categorical variables: \n",
    "    \n",
    "    * Apply a [simple imputation strategy](https://scikit-learn.org/stable/modules/generated/sklearn.impute.SimpleImputer.html#sklearn.impute.SimpleImputer):\n",
    "\n",
    "        + Use the most frequent value to complete missing values, also called the *mode*.\n",
    "\n",
    "    * Apply [one-hot encoding](https://scikit-learn.org/stable/modules/generated/sklearn.preprocessing.OneHotEncoder.html):\n",
    "        \n",
    "        + Handle unknown labels if they exist.\n",
    "        + Drop one column for binary variables.\n",
    "    \n",
    "    \n",
    "The column transformer should look like this:\n",
    "\n",
    "![](./images/assignment_2__column_transformer.png)"
   ]
  },
  {
   "cell_type": "code",
   "execution_count": null,
   "metadata": {},
   "outputs": [],
   "source": [
    "from sklearn.compose import ColumnTransformer\n",
    "from sklearn.impute import KNNImputer, SimpleImputer\n",
    "from sklearn.preprocessing import RobustScaler, OneHotEncoder\n",
    "\n",
    "\n",
    "# num_transforms: apply KNNImputer and RobustScaler\n",
    "num_transforms = [\n",
    "    ('imputer', KNNImputer(n_neighbors=7, weights='distance'), ['age', 'fnlwgt', 'education-num', 'capital-gain', 'capital-loss', 'hours-per-week']),\n",
    "    ('scaler', RobustScaler(), ['age', 'fnlwgt', 'education-num', 'capital-gain', 'capital-loss', 'hours-per-week'])\n",
    "]\n",
    "\n",
    "# cat_transforms: apply SimpleImputer and OneHotEncoder\n",
    "cat_transforms = [\n",
    "    ('imputer', SimpleImputer(strategy='most_frequent'), ['workclass', 'education', 'marital-status', 'occupation', 'relationship', 'race', 'sex', 'native-country']),\n",
    "    ('encoder', OneHotEncoder(handle_unknown='ignore', drop='if_binary'), ['workclass', 'education', 'marital-status', 'occupation', 'relationship', 'race', 'sex', 'native-country'])\n",
    "]\n",
    "\n",
    "\n",
    "# ColumnTransformer\n",
    "preprocessor = ColumnTransformer(\n",
    "    transformers=[\n",
    "        ('num', num_transforms, ['age', 'fnlwgt', 'education-num', 'capital-gain', 'capital-loss', 'hours-per-week'])])\n"
   ]
  },
  {
   "cell_type": "markdown",
   "metadata": {},
   "source": [
    "## Model Pipeline\n",
    "\n",
    "Create a [model pipeline](https://scikit-learn.org/stable/modules/generated/sklearn.pipeline.Pipeline.html): \n",
    "\n",
    "+ Add a step labelled `preprocessing` and assign the Column Transformer from the previous section.\n",
    "+ Add a step labelled `classifier` and assign a [`RandomForestClassifier()`](https://scikit-learn.org/stable/modules/generated/sklearn.ensemble.RandomForestClassifier.html) to it.\n",
    "\n",
    "The pipeline looks like this:\n",
    "\n",
    "![](./images/assignment_2__pipeline.png)"
   ]
  },
  {
   "cell_type": "code",
   "execution_count": null,
   "metadata": {},
   "outputs": [
    {
     "name": "stdout",
     "output_type": "stream",
     "text": [
      "Pipeline(steps=[('preprocessing',\n",
      "                 ColumnTransformer(transformers=[('num',\n",
      "                                                  [('imputer',\n",
      "                                                    KNNImputer(n_neighbors=7,\n",
      "                                                               weights='distance'),\n",
      "                                                    ['age', 'fnlwgt',\n",
      "                                                     'education-num',\n",
      "                                                     'capital-gain',\n",
      "                                                     'capital-loss',\n",
      "                                                     'hours-per-week']),\n",
      "                                                   ('scaler', RobustScaler(),\n",
      "                                                    ['age', 'fnlwgt',\n",
      "                                                     'education-num',\n",
      "                                                     'capital-gain',\n",
      "                                                     'capital-loss',\n",
      "                                                     'hours-per-week'])],\n",
      "                                                  ['age', 'fnlwgt',\n",
      "                                                   'education-num',\n",
      "                                                   'capital-gain',\n",
      "                                                   'capital-loss',\n",
      "                                                   'hours-per-week'])])),\n",
      "                ('classifier', RandomForestClassifier(random_state=42))])\n"
     ]
    }
   ],
   "source": [
    "from sklearn.pipeline import Pipeline\n",
    "from sklearn.ensemble import RandomForestClassifier\n",
    "\n",
    "classifier = RandomForestClassifier(random_state=42)\n",
    "\n",
    "model_pipeline = Pipeline(steps=[\n",
    "    ('preprocessing', preprocessor),   # preprocessing step\n",
    "    ('classifier', classifier)         # classifier step\n",
    "])\n",
    "\n",
    "print(model_pipeline)\n"
   ]
  },
  {
   "cell_type": "code",
   "execution_count": null,
   "metadata": {},
   "outputs": [
    {
     "name": "stdout",
     "output_type": "stream",
     "text": [
      "Pipeline(steps=[('preprocessing',\n",
      "                 ColumnTransformer(transformers=[('num',\n",
      "                                                  Pipeline(steps=[('imputer',\n",
      "                                                                   KNNImputer(n_neighbors=7,\n",
      "                                                                              weights='distance')),\n",
      "                                                                  ('scaler',\n",
      "                                                                   RobustScaler())]),\n",
      "                                                  ['age', 'fnlwgt',\n",
      "                                                   'education-num',\n",
      "                                                   'capital-gain',\n",
      "                                                   'capital-loss',\n",
      "                                                   'hours-per-week']),\n",
      "                                                 ('cat',\n",
      "                                                  Pipeline(steps=[('imputer',\n",
      "                                                                   SimpleImputer(strategy='most_frequent')),\n",
      "                                                                  ('encoder',\n",
      "                                                                   OneHotEncoder(drop='if_binary',\n",
      "                                                                                 handle_unknown='ignore'))]),\n",
      "                                                  ['workclass', 'education',\n",
      "                                                   'marital-status',\n",
      "                                                   'occupation', 'relationship',\n",
      "                                                   'race', 'sex',\n",
      "                                                   'native-country'])])),\n",
      "                ('classifier', RandomForestClassifier(random_state=42))])\n"
     ]
    }
   ],
   "source": [
    "# the following corssing-validation does not work because the ColumnTransformer does not work well, so I adjust it here.\n",
    "from sklearn.pipeline import Pipeline\n",
    "\n",
    "# apply KNNImputer and RobustScaler\n",
    "num_transformer = Pipeline(steps=[\n",
    "    ('imputer', KNNImputer(n_neighbors=7, weights='distance')),\n",
    "    ('scaler', RobustScaler())\n",
    "])\n",
    "\n",
    "# apply SimpleImputer and OneHotEncoder\n",
    "cat_transformer = Pipeline(steps=[\n",
    "    ('imputer', SimpleImputer(strategy='most_frequent')),\n",
    "    ('encoder', OneHotEncoder(handle_unknown='ignore', drop='if_binary'))\n",
    "])\n",
    "\n",
    "# recreate the ColumnTransformer\n",
    "preprocessor = ColumnTransformer(\n",
    "    transformers=[\n",
    "        ('num', num_transformer, ['age', 'fnlwgt', 'education-num', 'capital-gain', 'capital-loss', 'hours-per-week']),\n",
    "        ('cat', cat_transformer, ['workclass', 'education', 'marital-status', 'occupation', 'relationship', 'race', 'sex', 'native-country'])\n",
    "    ]\n",
    ")\n",
    "\n",
    "from sklearn.pipeline import Pipeline\n",
    "from sklearn.ensemble import RandomForestClassifier\n",
    "\n",
    "classifier = RandomForestClassifier(random_state=42)\n",
    "\n",
    "# pipeline\n",
    "model_pipeline = Pipeline(steps=[\n",
    "    ('preprocessing', preprocessor),   #preprocessing step\n",
    "    ('classifier', classifier)         #classifier step\n",
    "])\n",
    "\n",
    "print(model_pipeline)\n"
   ]
  },
  {
   "cell_type": "markdown",
   "metadata": {},
   "source": [
    "# Cross-Validation\n",
    "\n",
    "Evaluate the model pipeline using [`cross_validate()`](https://scikit-learn.org/stable/modules/generated/sklearn.model_selection.cross_validate.html):\n",
    "\n",
    "+ Measure the following [preformance metrics](https://scikit-learn.org/stable/modules/model_evaluation.html#common-cases-predefined-values): negative log loss, ROC AUC, accuracy, and balanced accuracy.\n",
    "+ Report the training and validation results. \n",
    "+ Use five folds.\n"
   ]
  },
  {
   "cell_type": "code",
   "execution_count": null,
   "metadata": {},
   "outputs": [
    {
     "name": "stderr",
     "output_type": "stream",
     "text": [
      "c:\\Users\\Xiaoxiao\\miniconda3\\envs\\dsi_participant\\lib\\site-packages\\sklearn\\preprocessing\\_encoders.py:242: UserWarning: Found unknown categories in columns [7] during transform. These unknown categories will be encoded as all zeros\n",
      "  warnings.warn(\n",
      "c:\\Users\\Xiaoxiao\\miniconda3\\envs\\dsi_participant\\lib\\site-packages\\sklearn\\preprocessing\\_encoders.py:242: UserWarning: Found unknown categories in columns [7] during transform. These unknown categories will be encoded as all zeros\n",
      "  warnings.warn(\n"
     ]
    },
    {
     "name": "stdout",
     "output_type": "stream",
     "text": [
      "{'fit_time': array([15.87565303, 16.21214938, 18.16683555, 17.87881994, 20.22862577]), 'score_time': array([0.31640148, 0.27530026, 0.29416633, 0.33722568, 0.2742672 ]), 'test_neg_log_loss': array([-0.35767483, -0.36923923, -0.37598795, -0.35679093, -0.3803792 ]), 'train_neg_log_loss': array([-0.08118902, -0.08151629, -0.08146857, -0.08251057, -0.08136767]), 'test_roc_auc': array([0.90438406, 0.90107902, 0.90137791, 0.90724978, 0.9022994 ]), 'train_roc_auc': array([1., 1., 1., 1., 1.]), 'test_accuracy': array([0.85062514, 0.85040579, 0.85410268, 0.85980693, 0.85607723]), 'train_accuracy': array([0.99994515, 1.        , 0.99994516, 1.        , 1.        ]), 'test_balanced_accuracy': array([0.7744843 , 0.77188128, 0.77601679, 0.7828585 , 0.77608926]), 'train_balanced_accuracy': array([0.9998869 , 1.        , 0.99988693, 1.        , 1.        ])}\n"
     ]
    }
   ],
   "source": [
    "from sklearn.model_selection import cross_validate\n",
    "\n",
    "# Define scoring metrics for cross-validation\n",
    "scoring = {\n",
    "    'neg_log_loss': 'neg_log_loss',\n",
    "    'roc_auc': 'roc_auc',\n",
    "    'accuracy': 'accuracy',\n",
    "    'balanced_accuracy': 'balanced_accuracy'\n",
    "}\n",
    "\n",
    "# Perform cross-validation using 5 folds\n",
    "cv_results = cross_validate(\n",
    "    model_pipeline,       \n",
    "    X_train, Y_train,     \n",
    "    cv=5,                 \n",
    "    scoring=scoring,      \n",
    "    return_train_score=True\n",
    ")\n",
    "\n",
    "print(cv_results)\n"
   ]
  },
  {
   "cell_type": "markdown",
   "metadata": {},
   "source": [
    "Display the fold-level results as a pandas data frame and sorted by negative log loss of the test (validation) set."
   ]
  },
  {
   "cell_type": "code",
   "execution_count": null,
   "metadata": {},
   "outputs": [
    {
     "name": "stdout",
     "output_type": "stream",
     "text": [
      "    fit_time  score_time  test_neg_log_loss  train_neg_log_loss  test_roc_auc  \\\n",
      "3  17.878820    0.337226          -0.356791           -0.082511      0.907250   \n",
      "0  15.875653    0.316401          -0.357675           -0.081189      0.904384   \n",
      "1  16.212149    0.275300          -0.369239           -0.081516      0.901079   \n",
      "2  18.166836    0.294166          -0.375988           -0.081469      0.901378   \n",
      "4  20.228626    0.274267          -0.380379           -0.081368      0.902299   \n",
      "\n",
      "   train_roc_auc  test_accuracy  train_accuracy  test_balanced_accuracy  \\\n",
      "3            1.0       0.859807        1.000000                0.782859   \n",
      "0            1.0       0.850625        0.999945                0.774484   \n",
      "1            1.0       0.850406        1.000000                0.771881   \n",
      "2            1.0       0.854103        0.999945                0.776017   \n",
      "4            1.0       0.856077        1.000000                0.776089   \n",
      "\n",
      "   train_balanced_accuracy  \n",
      "3                 1.000000  \n",
      "0                 0.999887  \n",
      "1                 1.000000  \n",
      "2                 0.999887  \n",
      "4                 1.000000  \n"
     ]
    }
   ],
   "source": [
    "import pandas as pd\n",
    "\n",
    "# Convert to df\n",
    "cv_results_df = pd.DataFrame(cv_results)\n",
    "\n",
    "# Sort by negative log loss of the test set\n",
    "cv_results_df_sorted = cv_results_df.sort_values(by='test_neg_log_loss', ascending=False)\n",
    "\n",
    "print(cv_results_df_sorted)\n"
   ]
  },
  {
   "cell_type": "markdown",
   "metadata": {},
   "source": [
    "Calculate the mean of each metric. "
   ]
  },
  {
   "cell_type": "code",
   "execution_count": null,
   "metadata": {},
   "outputs": [
    {
     "name": "stdout",
     "output_type": "stream",
     "text": [
      "Mean metrics across folds:\n",
      "fit_time                   17.672417\n",
      "score_time                  0.299472\n",
      "test_neg_log_loss          -0.368014\n",
      "train_neg_log_loss         -0.081610\n",
      "test_roc_auc                0.903278\n",
      "train_roc_auc               1.000000\n",
      "test_accuracy               0.854204\n",
      "train_accuracy              0.999978\n",
      "test_balanced_accuracy      0.776266\n",
      "train_balanced_accuracy     0.999955\n",
      "dtype: float64\n"
     ]
    }
   ],
   "source": [
    "# Calculate the mean\n",
    "mean_metrics = cv_results_df.mean()\n",
    "\n",
    "print(\"Mean metrics across folds:\")\n",
    "print(mean_metrics)\n"
   ]
  },
  {
   "cell_type": "markdown",
   "metadata": {},
   "source": [
    "Calculate the same performance metrics (negative log loss, ROC AUC, accuracy, and balanced accuracy) using the testing data `X_test` and `Y_test`. Display results as a dictionary.\n",
    "\n",
    "*Tip*: both, `roc_auc()` and `neg_log_loss()` will require prediction scores from `pipe.predict_proba()`. However, for `roc_auc()` you should only pass the last column `Y_pred_proba[:, 1]`. Use `Y_pred_proba` with `neg_log_loss()`."
   ]
  },
  {
   "cell_type": "code",
   "execution_count": null,
   "metadata": {},
   "outputs": [
    {
     "name": "stdout",
     "output_type": "stream",
     "text": [
      "Test set performance metrics:\n",
      "{'neg_log_loss': 0.3972650658939891, 'roc_auc': 0.8999828704291436, 'accuracy': 0.8551540587572934, 'balanced_accuracy': 0.7751631656838177}\n"
     ]
    }
   ],
   "source": [
    "from sklearn.metrics import roc_auc_score, log_loss, accuracy_score, balanced_accuracy_score\n",
    "\n",
    "model_pipeline.fit(X_train, Y_train)\n",
    "\n",
    "# Predict probabilities on the test set\n",
    "Y_pred_proba = model_pipeline.predict_proba(X_test)\n",
    "\n",
    "# Calculate the metrics on the test set\n",
    "test_metrics = {\n",
    "    'neg_log_loss': log_loss(Y_test, Y_pred_proba[:, 1]),\n",
    "    'roc_auc': roc_auc_score(Y_test, Y_pred_proba[:, 1]),\n",
    "    'accuracy': accuracy_score(Y_test, model_pipeline.predict(X_test)),\n",
    "    'balanced_accuracy': balanced_accuracy_score(Y_test, model_pipeline.predict(X_test))\n",
    "}\n",
    "\n",
    "print(\"Test set performance metrics:\")\n",
    "print(test_metrics)\n"
   ]
  },
  {
   "cell_type": "markdown",
   "metadata": {},
   "source": [
    "# Target Recoding\n",
    "\n",
    "In the first code chunk of this document, we loaded the data and immediately recoded the target variable `income`. Why is this [convenient](https://scikit-learn.org/stable/modules/model_evaluation.html#binary-case)?\n",
    "\n",
    "The specific line was:\n",
    "\n",
    "```\n",
    "adult_dt = (pd.read_csv('../05_src/data/adult/adult.data', header = None, names = columns)\n",
    "              .assign(income = lambda x: (x.income.str.strip() == '>50K')*1))\n",
    "```\n",
    "\n",
    "\n",
    "Since income is a character type, converting it into a binary variable makes subsequent modeling more convenient, and the code logic becomes clearer\n"
   ]
  },
  {
   "cell_type": "markdown",
   "metadata": {},
   "source": [
    "(Answer here.)"
   ]
  },
  {
   "cell_type": "markdown",
   "metadata": {},
   "source": [
    "## Criteria\n",
    "\n",
    "The [rubric](./assignment_2_rubric_clean.xlsx) contains the criteria for assessment."
   ]
  },
  {
   "cell_type": "markdown",
   "metadata": {},
   "source": [
    "## Submission Information\n",
    "\n",
    "🚨 **Please review our [Assignment Submission Guide](https://github.com/UofT-DSI/onboarding/blob/main/onboarding_documents/submissions.md)** 🚨 for detailed instructions on how to format, branch, and submit your work. Following these guidelines is crucial for your submissions to be evaluated correctly.\n",
    "\n",
    "### Submission Parameters:\n",
    "* Submission Due Date: `HH:MM AM/PM - DD/MM/YYYY`\n",
    "* The branch name for your repo should be: `assignment-2`\n",
    "* What to submit for this assignment:\n",
    "    * This Jupyter Notebook (assignment_2.ipynb) should be populated and should be the only change in your pull request.\n",
    "* What the pull request link should look like for this assignment: `https://github.com/<your_github_username>/production/pull/<pr_id>`\n",
    "    * Open a private window in your browser. Copy and paste the link to your pull request into the address bar. Make sure you can see your pull request properly. This helps the technical facilitator and learning support staff review your submission easily.\n",
    "\n",
    "Checklist:\n",
    "- [ ] Created a branch with the correct naming convention.\n",
    "- [ ] Ensured that the repository is public.\n",
    "- [ ] Reviewed the PR description guidelines and adhered to them.\n",
    "- [ ] Verify that the link is accessible in a private browser window.\n",
    "\n",
    "If you encounter any difficulties or have questions, please don't hesitate to reach out to our team via our Slack at `#cohort-3-help`. Our Technical Facilitators and Learning Support staff are here to help you navigate any challenges."
   ]
  },
  {
   "cell_type": "markdown",
   "metadata": {},
   "source": [
    "# Reference\n",
    "\n",
    "Becker,Barry and Kohavi,Ronny. (1996). Adult. UCI Machine Learning Repository. https://doi.org/10.24432/C5XW20."
   ]
  }
 ],
 "metadata": {
  "kernelspec": {
   "display_name": "dsi_participant",
   "language": "python",
   "name": "python3"
  },
  "language_info": {
   "codemirror_mode": {
    "name": "ipython",
    "version": 3
   },
   "file_extension": ".py",
   "mimetype": "text/x-python",
   "name": "python",
   "nbconvert_exporter": "python",
   "pygments_lexer": "ipython3",
   "version": "3.9.15"
  }
 },
 "nbformat": 4,
 "nbformat_minor": 2
}
